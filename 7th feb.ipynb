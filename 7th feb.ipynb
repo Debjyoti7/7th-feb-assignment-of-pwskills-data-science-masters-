{
 "cells": [
  {
   "cell_type": "markdown",
   "id": "5e6bb92d-a756-4849-9681-ab0e39dddcf8",
   "metadata": {},
   "source": [
    "# Q1. You are writing code for a company. The requirement of the company is that you create a python\n",
    "# function that will check whether the password entered by the user is correct or not. The function should\n",
    "# take the password as input and return the string “Valid Password” if the entered password follows the\n",
    "# below-given password guidelines else it should return “Invalid Password”.\n",
    "# Note: 1. The Password should contain at least two uppercase letters and at least two lowercase letters.\n",
    "# 2. The Password should contain at least a number and three special characters.\n",
    "# 3. The length of the password should be 10 characters long."
   ]
  },
  {
   "cell_type": "code",
   "execution_count": 1,
   "id": "d64b742c-9874-46bc-a51f-144a1235b187",
   "metadata": {},
   "outputs": [],
   "source": [
    "import re\n",
    "\n",
    "def check_password(password):\n",
    "    # Check length of password\n",
    "    if len(password) != 10:\n",
    "        return \"Invalid Password\"\n",
    "    \n",
    "    # Check for at least two uppercase letters and two lowercase letters\n",
    "    if not re.search(r'[A-Z].*[A-Z]', password) or not re.search(r'[a-z].*[a-z]', password):\n",
    "        return \"Invalid Password\"\n",
    "    \n",
    "    # Check for at least one number and three special characters\n",
    "    if not re.search(r'\\d', password) or not re.search(r'[!@#$%^&*()+-]', password) or not re.search(r'[!@#$%^&*()+-]', password) or not re.search(r'[!@#$%^&*()+-]', password):\n",
    "        return \"Invalid Password\"\n",
    "    \n",
    "    # If all conditions are met, return \"Valid Password\"\n",
    "    return \"Valid Password\"\n"
   ]
  },
  {
   "cell_type": "markdown",
   "id": "d9eeb697-efed-4ed8-beea-4f48f27749fb",
   "metadata": {},
   "source": [
    "# Q2. Solve the below-given questions using at least one of the following:\n",
    "# 1. Lambda function\n",
    "# 2. Filter function\n",
    "# 3. Zap function\n",
    "# 4. List Comprehension\n",
    "#  Check if the string starts with a particular letter\n",
    "#  Check if the string is numeric\n",
    "#  Sort a list of tuples having fruit names and their quantity. [(\"mango\",99),(\"orange\",80), (\"grapes\", 1000)-\n",
    "#  Find the squares of numbers from 1 to 10\n",
    "#  Find the cube root of numbers from 1 to 10\n",
    "#  Check if a given number is even\n",
    "#  Filter odd numbers from the given list.\n",
    "# [1,2,3,4,5,6,7,8,9,10-\n",
    "#  Sort a list of integers into positive and negative integers lists.\n",
    "# [1,2,3,4,5,6,-1,-2,-3,-4,-5,0]"
   ]
  },
  {
   "cell_type": "code",
   "execution_count": 9,
   "id": "9ae15a30-b1ed-4524-8210-805e606c8b69",
   "metadata": {},
   "outputs": [
    {
     "name": "stdout",
     "output_type": "stream",
     "text": [
      "True\n",
      "False\n"
     ]
    }
   ],
   "source": [
    "check_start = lambda string, letter: string.startswith(letter)\n",
    "print(check_start(\"Hello world\", \"H\"))  \n",
    "print(check_start(\"Hello world\", \"W\"))  \n"
   ]
  },
  {
   "cell_type": "code",
   "execution_count": 10,
   "id": "2f54caf1-5c0a-4881-8744-f5cd810c032f",
   "metadata": {},
   "outputs": [
    {
     "name": "stdout",
     "output_type": "stream",
     "text": [
      "True\n",
      "False\n"
     ]
    }
   ],
   "source": [
    "check_numeric = lambda string: string.isnumeric()\n",
    "print(check_numeric(\"123\"))  \n",
    "print(check_numeric(\"12a3\"))  \n"
   ]
  },
  {
   "cell_type": "code",
   "execution_count": 11,
   "id": "f03bd6ba-5f21-4032-89a9-d0a3cdba59e2",
   "metadata": {},
   "outputs": [
    {
     "name": "stdout",
     "output_type": "stream",
     "text": [
      "[('orange', 80), ('mango', 99), ('grapes', 1000)]\n"
     ]
    }
   ],
   "source": [
    "fruits = [(\"mango\", 99), (\"orange\", 80), (\"grapes\", 1000)]\n",
    "sorted_fruits = sorted(fruits, key=lambda x: x[1])\n",
    "print(sorted_fruits)  \n"
   ]
  },
  {
   "cell_type": "code",
   "execution_count": 12,
   "id": "891a0cb9-a776-4197-bf96-053c4ef4b765",
   "metadata": {},
   "outputs": [
    {
     "name": "stdout",
     "output_type": "stream",
     "text": [
      "[1, 4, 9, 16, 25, 36, 49, 64, 81, 100]\n"
     ]
    }
   ],
   "source": [
    "squares = [(lambda x: x*x)(i) for i in range(1, 11)]\n",
    "print(squares)  \n"
   ]
  },
  {
   "cell_type": "code",
   "execution_count": 13,
   "id": "f0afd675-cc7b-4973-90d5-9388592b172e",
   "metadata": {},
   "outputs": [
    {
     "name": "stdout",
     "output_type": "stream",
     "text": [
      "[1.0, 1.2599210498948732, 1.4422495703074083, 1.5874010519681994, 1.7099759466766968, 1.8171205928321397, 1.912931182772389, 2.0, 2.080083823051904, 2.154434690031884]\n"
     ]
    }
   ],
   "source": [
    "import math\n",
    "\n",
    "cube_roots = [(lambda x: math.pow(x, 1/3))(i) for i in range(1, 11)]\n",
    "print(cube_roots)  "
   ]
  },
  {
   "cell_type": "code",
   "execution_count": 14,
   "id": "a2b9f90d-8ce1-421c-b121-fbfc9dc3065c",
   "metadata": {},
   "outputs": [
    {
     "name": "stdout",
     "output_type": "stream",
     "text": [
      "True\n",
      "False\n"
     ]
    }
   ],
   "source": [
    "is_even = lambda x: x % 2 == 0\n",
    "print(is_even(4))  \n",
    "print(is_even(5))  \n"
   ]
  },
  {
   "cell_type": "code",
   "execution_count": 16,
   "id": "cfc5065c-982b-422b-b46c-d028af0b8be6",
   "metadata": {},
   "outputs": [
    {
     "name": "stdout",
     "output_type": "stream",
     "text": [
      "[1, 3, 5, 7, 9]\n"
     ]
    }
   ],
   "source": [
    "numbers = [1, 2, 3, 4, 5, 6, 7, 8, 9, 10]\n",
    "filtered_numbers = list(filter(lambda x: x % 2 != 0, numbers))\n",
    "print(filtered_numbers) \n"
   ]
  },
  {
   "cell_type": "code",
   "execution_count": 27,
   "id": "63dd9812-8906-491b-8817-bb5646c50399",
   "metadata": {},
   "outputs": [],
   "source": [
    "numbers = [1, 2, 3, 4, 5, 6, -1, -2, -3, -4, -5, 0]\n",
    "positive_numbers = [x for x in numbers if (lambda x : x > 0)(x)]\n",
    "negative_numbers = [x for x in numbers if (lambda x : x<0) (x)]\n"
   ]
  },
  {
   "cell_type": "code",
   "execution_count": 28,
   "id": "e7f9536e-4f9a-4fd1-8c85-2ed9a273105a",
   "metadata": {},
   "outputs": [
    {
     "data": {
      "text/plain": [
       "[1, 2, 3, 4, 5, 6]"
      ]
     },
     "execution_count": 28,
     "metadata": {},
     "output_type": "execute_result"
    }
   ],
   "source": [
    "positive_numbers"
   ]
  },
  {
   "cell_type": "code",
   "execution_count": 29,
   "id": "e05fa2d2-7938-4c14-a1bd-15f2dca2ed3c",
   "metadata": {},
   "outputs": [
    {
     "data": {
      "text/plain": [
       "[-1, -2, -3, -4, -5]"
      ]
     },
     "execution_count": 29,
     "metadata": {},
     "output_type": "execute_result"
    }
   ],
   "source": [
    "negative_numbers"
   ]
  },
  {
   "cell_type": "code",
   "execution_count": null,
   "id": "4ca4ae08-eb2e-4d09-9a2a-f011f85a3ff4",
   "metadata": {},
   "outputs": [],
   "source": []
  }
 ],
 "metadata": {
  "kernelspec": {
   "display_name": "Python 3 (ipykernel)",
   "language": "python",
   "name": "python3"
  },
  "language_info": {
   "codemirror_mode": {
    "name": "ipython",
    "version": 3
   },
   "file_extension": ".py",
   "mimetype": "text/x-python",
   "name": "python",
   "nbconvert_exporter": "python",
   "pygments_lexer": "ipython3",
   "version": "3.10.8"
  }
 },
 "nbformat": 4,
 "nbformat_minor": 5
}
